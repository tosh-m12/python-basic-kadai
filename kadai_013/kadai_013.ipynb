{
  "nbformat": 4,
  "nbformat_minor": 0,
  "metadata": {
    "colab": {
      "provenance": []
    },
    "kernelspec": {
      "name": "python3",
      "display_name": "Python 3"
    },
    "language_info": {
      "name": "python"
    }
  },
  "cells": [
    {
      "cell_type": "code",
      "execution_count": 1,
      "metadata": {
        "colab": {
          "base_uri": "https://localhost:8080/"
        },
        "id": "ZRKXAl94kJ8Q",
        "outputId": "3bcbd3e6-a546-4652-d4c6-3705a4feb230"
      },
      "outputs": [
        {
          "output_type": "stream",
          "name": "stdout",
          "text": [
            "1100.0\n"
          ]
        }
      ],
      "source": [
        "def calculate_vat(price, rate: float):\n",
        "\n",
        "  total = price * (1 + rate)\n",
        "\n",
        "  return total\n",
        "\n",
        "\n",
        "print(calculate_vat(1000, 0.1))\n",
        "\n"
      ]
    }
  ]
}