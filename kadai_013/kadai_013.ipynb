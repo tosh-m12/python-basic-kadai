{
  "nbformat": 4,
  "nbformat_minor": 0,
  "metadata": {
    "colab": {
      "provenance": []
    },
    "kernelspec": {
      "name": "python3",
      "display_name": "Python 3"
    },
    "language_info": {
      "name": "python"
    }
  },
  "cells": [
    {
      "cell_type": "code",
      "execution_count": 3,
      "metadata": {
        "colab": {
          "base_uri": "https://localhost:8080/"
        },
        "id": "FD06KSgKcWtv",
        "outputId": "dbca0159-08c2-44cb-dad6-8f39a0421016"
      },
      "outputs": [
        {
          "output_type": "stream",
          "name": "stdout",
          "text": [
            "税込み価格は1100.0です。\n"
          ]
        }
      ],
      "source": [
        "def calculate_vat(price, rate: float):\n",
        "\n",
        "  total = price * (1 + rate)\n",
        "\n",
        "  print(f'税込み価格は{total}です。')\n",
        "\n",
        "calculate_vat(1000, 0.1)"
      ]
    }
  ]
}