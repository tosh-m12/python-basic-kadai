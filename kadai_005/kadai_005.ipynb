{
  "nbformat": 4,
  "nbformat_minor": 0,
  "metadata": {
    "colab": {
      "provenance": []
    },
    "kernelspec": {
      "name": "python3",
      "display_name": "Python 3"
    },
    "language_info": {
      "name": "python"
    }
  },
  "cells": [
    {
      "cell_type": "code",
      "execution_count": 1,
      "metadata": {
        "colab": {
          "base_uri": "https://localhost:8080/"
        },
        "id": "rqX0N3Xo0cug",
        "outputId": "856e0e2f-4de2-4643-dd6b-2c518b87ec76"
      },
      "outputs": [
        {
          "output_type": "stream",
          "name": "stdout",
          "text": [
            "上辺10cm、底辺20cm、高さ5cmの台形の面積は75.0㎠です。\n"
          ]
        }
      ],
      "source": [
        "top = 10\n",
        "bottom = 20\n",
        "height = 5\n",
        "\n",
        "area = ((top + bottom) * height / 2)\n",
        "\n",
        "print(f\"上辺{top}cm、底辺{bottom}cm、高さ{height}cmの台形の面積は{area}㎠です。\")"
      ]
    }
  ]
}