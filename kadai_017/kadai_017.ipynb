{
  "nbformat": 4,
  "nbformat_minor": 0,
  "metadata": {
    "colab": {
      "provenance": []
    },
    "kernelspec": {
      "name": "python3",
      "display_name": "Python 3"
    },
    "language_info": {
      "name": "python"
    }
  },
  "cells": [
    {
      "cell_type": "code",
      "execution_count": 1,
      "metadata": {
        "colab": {
          "base_uri": "https://localhost:8080/"
        },
        "id": "YJmQUzYzgZts",
        "outputId": "3b24c62c-a82d-4aee-c54a-120f79d25a9b"
      },
      "outputs": [
        {
          "output_type": "stream",
          "name": "stdout",
          "text": [
            "侍太郎 30\n",
            "侍太郎さんは大人です\n",
            "侍一郎 25\n",
            "侍一郎さんは大人です\n",
            "侍二郎 21\n",
            "侍二郎さんは大人です\n",
            "侍三郎 19\n",
            "侍三郎さんは大人ではありません\n",
            "侍四郎 16\n",
            "侍四郎さんは大人ではありません\n"
          ]
        }
      ],
      "source": [
        "members_data = {\"侍太郎\": 30, \"侍一郎\": 25, \"侍二郎\": 21, \"侍三郎\": 19, \"侍四郎\": 16}\n",
        "\n",
        "class Human:\n",
        "    def __init__(self):\n",
        "        self.name = \"\"\n",
        "        self.age = \"\"\n",
        "    def check_adult(self):\n",
        "        if self.age >= 20:\n",
        "            print(f\"{self.name}さんは大人です\")\n",
        "        else:\n",
        "            print(f\"{self.name}さんは大人ではありません\")\n",
        "\n",
        "members_list = []\n",
        "\n",
        "for key, value in members_data.items():\n",
        "    member = Human()\n",
        "    member.name = key\n",
        "    member.age = value\n",
        "    members_list.append(member)\n",
        "\n",
        "for human in members_list:\n",
        "    print(human.name, human.age)\n",
        "    human.check_adult()\n"
      ]
    }
  ]
}