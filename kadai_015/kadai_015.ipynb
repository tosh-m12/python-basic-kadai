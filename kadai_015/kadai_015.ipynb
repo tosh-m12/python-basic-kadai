{
  "nbformat": 4,
  "nbformat_minor": 0,
  "metadata": {
    "colab": {
      "provenance": []
    },
    "kernelspec": {
      "name": "python3",
      "display_name": "Python 3"
    },
    "language_info": {
      "name": "python"
    }
  },
  "cells": [
    {
      "cell_type": "code",
      "execution_count": 1,
      "metadata": {
        "colab": {
          "base_uri": "https://localhost:8080/"
        },
        "id": "T2k7M00ws58c",
        "outputId": "68510359-828c-4f1d-af6a-69b7adbe206b"
      },
      "outputs": [
        {
          "output_type": "stream",
          "name": "stdout",
          "text": [
            "侍二郎\n",
            "34\n"
          ]
        }
      ],
      "source": [
        "class Human:\n",
        "  def __init__(self, name, age):\n",
        "    self.name = name\n",
        "    self.age = age\n",
        "\n",
        "  def print_info(self):\n",
        "    print(self.name)\n",
        "    print(self.age)\n",
        "\n",
        "person_a = Human(\"侍太郎\", 36)\n",
        "person_b = Human(\"侍二郎\", 34)\n",
        "person_c = Human(\"侍三郎\", 30)\n",
        "\n",
        "\n",
        "person_b.print_info()"
      ]
    }
  ]
}